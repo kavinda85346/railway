{
 "cells": [
  {
   "cell_type": "code",
   "execution_count": 2,
   "metadata": {},
   "outputs": [],
   "source": [
    "import pandas as pd"
   ]
  },
  {
   "cell_type": "code",
   "execution_count": 4,
   "metadata": {},
   "outputs": [],
   "source": [
    "df = pd.read_csv(\"Railway_Info.csv\")"
   ]
  },
  {
   "cell_type": "code",
   "execution_count": 5,
   "metadata": {},
   "outputs": [
    {
     "data": {
      "text/html": [
       "<div>\n",
       "<style scoped>\n",
       "    .dataframe tbody tr th:only-of-type {\n",
       "        vertical-align: middle;\n",
       "    }\n",
       "\n",
       "    .dataframe tbody tr th {\n",
       "        vertical-align: top;\n",
       "    }\n",
       "\n",
       "    .dataframe thead th {\n",
       "        text-align: right;\n",
       "    }\n",
       "</style>\n",
       "<table border=\"1\" class=\"dataframe\">\n",
       "  <thead>\n",
       "    <tr style=\"text-align: right;\">\n",
       "      <th></th>\n",
       "      <th>Train_No</th>\n",
       "      <th>Train_Name</th>\n",
       "      <th>Source_Station_Name</th>\n",
       "      <th>Destination_Station_Name</th>\n",
       "      <th>days</th>\n",
       "    </tr>\n",
       "  </thead>\n",
       "  <tbody>\n",
       "    <tr>\n",
       "      <th>0</th>\n",
       "      <td>107</td>\n",
       "      <td>SWV-MAO-VLNK</td>\n",
       "      <td>SAWANTWADI ROAD</td>\n",
       "      <td>MADGOAN JN.</td>\n",
       "      <td>Saturday</td>\n",
       "    </tr>\n",
       "    <tr>\n",
       "      <th>1</th>\n",
       "      <td>108</td>\n",
       "      <td>VLNK-MAO-SWV</td>\n",
       "      <td>MADGOAN JN.</td>\n",
       "      <td>SAWANTWADI ROAD</td>\n",
       "      <td>Friday</td>\n",
       "    </tr>\n",
       "    <tr>\n",
       "      <th>2</th>\n",
       "      <td>128</td>\n",
       "      <td>MAO-KOP SPEC</td>\n",
       "      <td>MADGOAN JN.</td>\n",
       "      <td>CHHATRAPATI SHAHU MAHARAJ TERMINUS</td>\n",
       "      <td>Friday</td>\n",
       "    </tr>\n",
       "    <tr>\n",
       "      <th>3</th>\n",
       "      <td>290</td>\n",
       "      <td>PALACE ON WH</td>\n",
       "      <td>DELHI-SAFDAR JANG</td>\n",
       "      <td>DELHI-SAFDAR JANG</td>\n",
       "      <td>Wednesday</td>\n",
       "    </tr>\n",
       "    <tr>\n",
       "      <th>4</th>\n",
       "      <td>401</td>\n",
       "      <td>BSB BHARATDA</td>\n",
       "      <td>AURANGABAD</td>\n",
       "      <td>VARANASI JN.</td>\n",
       "      <td>Saturday</td>\n",
       "    </tr>\n",
       "  </tbody>\n",
       "</table>\n",
       "</div>"
      ],
      "text/plain": [
       "   Train_No    Train_Name Source_Station_Name  \\\n",
       "0       107  SWV-MAO-VLNK     SAWANTWADI ROAD   \n",
       "1       108  VLNK-MAO-SWV         MADGOAN JN.   \n",
       "2       128  MAO-KOP SPEC         MADGOAN JN.   \n",
       "3       290  PALACE ON WH   DELHI-SAFDAR JANG   \n",
       "4       401  BSB BHARATDA          AURANGABAD   \n",
       "\n",
       "             Destination_Station_Name       days  \n",
       "0                         MADGOAN JN.   Saturday  \n",
       "1                     SAWANTWADI ROAD     Friday  \n",
       "2  CHHATRAPATI SHAHU MAHARAJ TERMINUS     Friday  \n",
       "3                   DELHI-SAFDAR JANG  Wednesday  \n",
       "4                        VARANASI JN.   Saturday  "
      ]
     },
     "execution_count": 5,
     "metadata": {},
     "output_type": "execute_result"
    }
   ],
   "source": [
    "df.head(5)"
   ]
  }
 ],
 "metadata": {
  "kernelspec": {
   "display_name": "tensorflow_env",
   "language": "python",
   "name": "python3"
  },
  "language_info": {
   "codemirror_mode": {
    "name": "ipython",
    "version": 3
   },
   "file_extension": ".py",
   "mimetype": "text/x-python",
   "name": "python",
   "nbconvert_exporter": "python",
   "pygments_lexer": "ipython3",
   "version": "3.9.15"
  }
 },
 "nbformat": 4,
 "nbformat_minor": 2
}
